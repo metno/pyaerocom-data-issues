{
 "cells": [
  {
   "cell_type": "markdown",
   "metadata": {},
   "source": [
    "### Investigating relative humidity data for dry aerosol absorption coefficients in EBAS database\n",
    "\n",
    "Retrival of dry absorption coefficients from EBAS data requires information about RH in EBAS data files. This notebook investigates, how many of all EBAS data files with aerosol absorption data contain information about the relative humidity during the measurement."
   ]
  },
  {
   "cell_type": "code",
   "execution_count": 1,
   "metadata": {},
   "outputs": [
    {
     "name": "stderr",
     "output_type": "stream",
     "text": [
      "Init data paths for lustre\n"
     ]
    },
    {
     "name": "stdout",
     "output_type": "stream",
     "text": [
      "0.026566028594970703 s\n"
     ]
    }
   ],
   "source": [
    "import pyaerocom as pya\n",
    "import os\n",
    "\n",
    "DATA_DIR = pya.const.EBASMC_DATA_DIR + '/'"
   ]
  },
  {
   "cell_type": "code",
   "execution_count": 2,
   "metadata": {},
   "outputs": [
    {
     "name": "stdout",
     "output_type": "stream",
     "text": [
      "Last EBAS database update: 20190115\n",
      "\n"
     ]
    }
   ],
   "source": [
    "print('Last EBAS database update: {}'.format(open(DATA_DIR + '../Revision.txt').readline()))"
   ]
  },
  {
   "cell_type": "markdown",
   "metadata": {},
   "source": [
    "#### Get all files that contain scattering absorption data"
   ]
  },
  {
   "cell_type": "code",
   "execution_count": 3,
   "metadata": {},
   "outputs": [
    {
     "name": "stdout",
     "output_type": "stream",
     "text": [
      "\n",
      "Pyaerocom EbasSQLRequest\n",
      "------------------------\n",
      "variables: ['aerosol_absorption_coefficient']\n",
      "start_date: None\n",
      "stop_date: None\n",
      "station_names: None\n",
      "matrices: None\n",
      "altitude_range: None\n",
      "lon_range: None\n",
      "lat_range: None\n",
      "instrument_types: None\n",
      "statistics: None\n",
      "datalevel: None\n",
      "Filename request string:\n",
      "select distinct filename from variable join station on station.station_code=variable.station_code where comp_name in ('aerosol_absorption_coefficient');\n"
     ]
    }
   ],
   "source": [
    "req = pya.io.EbasSQLRequest(variables=['aerosol_absorption_coefficient'])\n",
    "print(req)"
   ]
  },
  {
   "cell_type": "code",
   "execution_count": 4,
   "metadata": {},
   "outputs": [
    {
     "data": {
      "text/plain": [
       "868"
      ]
     },
     "execution_count": 4,
     "metadata": {},
     "output_type": "execute_result"
    }
   ],
   "source": [
    "db = pya.io.EbasFileIndex()\n",
    "files = db.get_file_names(request=req)\n",
    "len(files)"
   ]
  },
  {
   "cell_type": "markdown",
   "metadata": {},
   "source": [
    "#### Read all files and check if they contain relative humidity column"
   ]
  },
  {
   "cell_type": "markdown",
   "metadata": {},
   "source": [
    "##### Defines search strings for RH column (*RH_NAME*) and metadata key with RH info (*META_NAME*)"
   ]
  },
  {
   "cell_type": "code",
   "execution_count": 5,
   "metadata": {},
   "outputs": [],
   "source": [
    "RH_NAME = 'relative_humidity'\n",
    "META_NAME = 'humidity/temperature_control'"
   ]
  },
  {
   "cell_type": "markdown",
   "metadata": {},
   "source": [
    "##### Init empty objects that are filled below"
   ]
  },
  {
   "cell_type": "code",
   "execution_count": 6,
   "metadata": {},
   "outputs": [],
   "source": [
    "contain_rh_data = [] # will be filled with all files that have relative_humidity column with actual data\n",
    "no_rh_col = [] # will be filled with all files that have NO relative_humidity column \n",
    "contain_rh_col_allnans = [] # will be filled with all files that have relative_humidity column but all values are NaN\n",
    "\n",
    "contain_rh_meta_info = {} # dictionary that contains all files that have META_NAME key in their metadata dictionary"
   ]
  },
  {
   "cell_type": "markdown",
   "metadata": {},
   "source": [
    "##### Read all files and check RH availability"
   ]
  },
  {
   "cell_type": "code",
   "execution_count": 7,
   "metadata": {},
   "outputs": [
    {
     "name": "stdout",
     "output_type": "stream",
     "text": [
      "0\n",
      "100\n",
      "200\n",
      "300\n",
      "400\n",
      "500\n",
      "600\n",
      "700\n",
      "800\n"
     ]
    }
   ],
   "source": [
    "for i, file in enumerate(files):\n",
    "    if i%100==0:\n",
    "        print(i)\n",
    "    first = pya.io.EbasNasaAmesFile(DATA_DIR + file)\n",
    "    if RH_NAME in first.col_names:\n",
    "        idx = first.col_names.index(RH_NAME)\n",
    "        data = first.data[:, idx]\n",
    "        if np.sum(np.isnan(data)) == len(data):\n",
    "            contain_rh_col_allnans.append(file)\n",
    "        else:\n",
    "            contain_rh_data.append(file)\n",
    "    else:\n",
    "        no_rh_col.append(file)\n",
    "    \n",
    "    if META_NAME in first.meta.keys():\n",
    "        contain_rh_meta_info[file] = first.meta[META_NAME]\n",
    "        "
   ]
  },
  {
   "cell_type": "markdown",
   "metadata": {},
   "source": [
    "#### Print search results"
   ]
  },
  {
   "cell_type": "code",
   "execution_count": 8,
   "metadata": {},
   "outputs": [
    {
     "name": "stdout",
     "output_type": "stream",
     "text": [
      "Total # of files: 868\n",
      "No RH column: 825\n",
      "RH column but all NaN: 26\n",
      "RH column with data: 17\n",
      "Files with RH info in meta data: 629\n"
     ]
    }
   ],
   "source": [
    "print('Total # of files: {}'.format(len(files)))\n",
    "print('No RH column: {}'.format(len(no_rh_col)))\n",
    "print('RH column but all NaN: {}'.format(len(contain_rh_col_allnans)))\n",
    "print('RH column with data: {}'.format(len(contain_rh_data)))\n",
    "print('Files with RH info in meta data: {}'.format(len(contain_rh_meta_info)))"
   ]
  },
  {
   "cell_type": "markdown",
   "metadata": {},
   "source": [
    "#### Investigate the additional meta information"
   ]
  },
  {
   "cell_type": "code",
   "execution_count": 9,
   "metadata": {},
   "outputs": [
    {
     "name": "stdout",
     "output_type": "stream",
     "text": [
      "Info: None (183 times)\n",
      "Info: Heating to 40% RH, limit 40 deg. C (280 times)\n",
      "Info: Other (see metadata) (51 times)\n",
      "Info: Diffusion dryer (41 times)\n",
      "Info: Temperature conditioning at 25 deg. C (25 times)\n",
      "Info: Nafion dryer (32 times)\n",
      "Info: Temperature conditioning at 30 deg. C (8 times)\n",
      "Info: Dilution drying (2 times)\n",
      "Info: Nafion dryer with temperature conditioning at 30 deg. C (1 times)\n",
      "Info: Temperature controlled (6 times)\n"
     ]
    }
   ],
   "source": [
    "info = {}\n",
    "for info_str in contain_rh_meta_info.values():\n",
    "    if not info_str in info:\n",
    "        info[info_str] = 1\n",
    "    else: \n",
    "        info[info_str] += 1\n",
    "        \n",
    "for k, v in info.items():\n",
    "    print('Info: {} ({} times)'.format(k, v))"
   ]
  },
  {
   "cell_type": "markdown",
   "metadata": {},
   "source": [
    "#### Print all stations where actual RH column data was found"
   ]
  },
  {
   "cell_type": "code",
   "execution_count": 10,
   "metadata": {},
   "outputs": [
    {
     "name": "stdout",
     "output_type": "stream",
     "text": [
      "Mt Cimone\n",
      "Montseny\n",
      "Hyytiälä\n",
      "DEM_Athens\n",
      "DEM_Athens\n",
      "DEM_Athens\n",
      "Helmos Mountain\n",
      "Preila\n",
      "Preila\n",
      "Preila\n",
      "Preila\n",
      "Preila\n",
      "Preila\n",
      "Preila\n",
      "Preila\n",
      "Preila\n",
      "Preila\n"
     ]
    }
   ],
   "source": [
    "for file in contain_rh_data:\n",
    "    data = pya.io.EbasNasaAmesFile(DATA_DIR + file)\n",
    "    print(data.station_name)"
   ]
  },
  {
   "cell_type": "markdown",
   "metadata": {},
   "source": [
    "### Summary and Discussion\n",
    "\n",
    " - Currently, only 6 stations for absorption coefficient data contain RH columns with acutal values in them\n",
    " - 300, out of 888 files contain metadata that provides information about dry measurement conditions (global) where RH 40%\n",
    " \n",
    "### Conclusion\n",
    "\n",
    "Since absorption does not show strong dependency on RH, it can be considered of minor importance here to change anything."
   ]
  }
 ],
 "metadata": {
  "kernelspec": {
   "display_name": "Python 3",
   "language": "python",
   "name": "python3"
  },
  "language_info": {
   "codemirror_mode": {
    "name": "ipython",
    "version": 3
   },
   "file_extension": ".py",
   "mimetype": "text/x-python",
   "name": "python",
   "nbconvert_exporter": "python",
   "pygments_lexer": "ipython3",
   "version": "3.6.6"
  }
 },
 "nbformat": 4,
 "nbformat_minor": 2
}
