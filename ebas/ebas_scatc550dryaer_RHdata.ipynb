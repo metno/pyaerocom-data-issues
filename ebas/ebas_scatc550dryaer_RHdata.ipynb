{
 "cells": [
  {
   "cell_type": "markdown",
   "metadata": {},
   "source": [
    "### Investigating relative humidity data for dry scattering coefficients in EBAS database\n",
    "\n",
    "Retrival of dry scattering coefficients from EBAS data requires information about RH in EBAS data files. The first version of the EBAS level 3 product that we created (today: 5/12/2018) used only datapoints from files that include a data column ``relative_humidity`` and considered only those points where RH values were not NaN and below 50%. However, based on the resulting timeseries (in comparison with EBAS-RAW), it appears that too many datapoints are disregarded (e.g. Gosan station). Also, for the absorption coefficients [we found that it might be required to consider humidity information in the NASA Ames meta headers](http://localhost:8889/notebooks/issues/ebas_absc550dryaer_RHdata.ipynb). \n",
    "\n",
    "Here, we show that the latter may lead to insufficient results, using the example of the Gosan station."
   ]
  },
  {
   "cell_type": "code",
   "execution_count": 1,
   "metadata": {},
   "outputs": [
    {
     "name": "stderr",
     "output_type": "stream",
     "text": [
      "Init data paths for lustre\n"
     ]
    },
    {
     "name": "stdout",
     "output_type": "stream",
     "text": [
      "0.011529207229614258 s\n"
     ]
    }
   ],
   "source": [
    "import pyaerocom as pya\n",
    "\n",
    "DATA_DIR = pya.const.EBASMC_DATA_DIR + '/'"
   ]
  },
  {
   "cell_type": "markdown",
   "metadata": {},
   "source": [
    "#### Get all files that contain scattering absorption data"
   ]
  },
  {
   "cell_type": "code",
   "execution_count": 2,
   "metadata": {},
   "outputs": [
    {
     "name": "stdout",
     "output_type": "stream",
     "text": [
      "\n",
      "Pyaerocom EbasSQLRequest\n",
      "------------------------\n",
      "variables: ['aerosol_light_scattering_coefficient']\n",
      "start_date: None\n",
      "stop_date: None\n",
      "station_names: Gosan\n",
      "matrices: None\n",
      "altitude_range: None\n",
      "lon_range: None\n",
      "lat_range: None\n",
      "instrument_types: None\n",
      "statistics: None\n",
      "datalevel: None\n",
      "Filename request string:\n",
      "select distinct filename from variable join station on station.station_code=variable.station_code where station_name in ('Gosan') and comp_name in ('aerosol_light_scattering_coefficient');\n"
     ]
    }
   ],
   "source": [
    "req = pya.io.EbasSQLRequest(variables=['aerosol_light_scattering_coefficient'],\n",
    "                            station_names='Gosan')\n",
    "print(req)"
   ]
  },
  {
   "cell_type": "code",
   "execution_count": 3,
   "metadata": {},
   "outputs": [
    {
     "data": {
      "text/plain": [
       "10"
      ]
     },
     "execution_count": 3,
     "metadata": {},
     "output_type": "execute_result"
    }
   ],
   "source": [
    "db = pya.io.EbasFileIndex()\n",
    "files = db.get_file_names(req)\n",
    "len(files)"
   ]
  },
  {
   "cell_type": "code",
   "execution_count": 4,
   "metadata": {},
   "outputs": [
    {
     "name": "stdout",
     "output_type": "stream",
     "text": [
      "File 0 (8784 measurements):\tHeating to 40% RH, limit 40 deg. C\tRH-column: NaNs: 8784, RH>40: 0\n",
      "File 1 (8760 measurements):\tHeating to 40% RH, limit 40 deg. C\tRH-column: NaNs: 8760, RH>40: 0\n",
      "File 2 (8760 measurements):\tHeating to 40% RH, limit 40 deg. C\tRH-column: NaNs: 8760, RH>40: 0\n",
      "File 3 (5688 measurements):\tHeating to 40% RH, limit 40 deg. C\tRH-column: NaNs: 5688, RH>40: 0\n",
      "File 4 (9 measurements):\tHeating to 40% RH, limit 40 deg. C\tRH-column: NaNs: 0, RH>40: 0\n",
      "File 5 (1 measurements):\tHeating to 40% RH, limit 40 deg. C\tRH-column: NaNs: 0, RH>40: 0\n",
      "File 6 (8784 measurements):\tHeating to 40% RH, limit 40 deg. C\tRH-column: NaNs: 828, RH>40: 1466\n",
      "File 7 (8760 measurements):\tHeating to 40% RH, limit 40 deg. C\tRH-column: NaNs: 886, RH>40: 1645\n",
      "File 8 (8760 measurements):\tHeating to 40% RH, limit 40 deg. C\tRH-column: NaNs: 983, RH>40: 207\n",
      "File 9 (8760 measurements):\tHeating to 40% RH, limit 40 deg. C\tRH-column: NaNs: 4514, RH>40: 25\n"
     ]
    }
   ],
   "source": [
    "import numpy as np\n",
    "for i, file in enumerate(files):\n",
    "    data = pya.io.EbasNasaAmesFile(DATA_DIR + file)\n",
    "    rh_col = data.col_names.index('relative_humidity')\n",
    "    rh = data.data[:, rh_col]\n",
    "    nanvals = np.isnan(rh).sum()\n",
    "    highrh = (rh > 40).sum()\n",
    "    print('File {} ({} measurements):\\t{}\\tRH-column: NaNs: {}, RH>40: {}'.format(i, \n",
    "                                                 data.shape[0], \n",
    "                                                 data.meta['humidity/temperature_control'],\n",
    "                                                 nanvals,highrh))\n",
    "    "
   ]
  },
  {
   "cell_type": "markdown",
   "metadata": {},
   "source": [
    "### Summary and Discussion\n",
    "\n",
    "We showed that the meta information in the files ``humidity/temperature_control`` is not reliable."
   ]
  }
 ],
 "metadata": {
  "kernelspec": {
   "display_name": "Python 3",
   "language": "python",
   "name": "python3"
  },
  "language_info": {
   "codemirror_mode": {
    "name": "ipython",
    "version": 3
   },
   "file_extension": ".py",
   "mimetype": "text/x-python",
   "name": "python",
   "nbconvert_exporter": "python",
   "pygments_lexer": "ipython3",
   "version": "3.6.6"
  }
 },
 "nbformat": 4,
 "nbformat_minor": 2
}
