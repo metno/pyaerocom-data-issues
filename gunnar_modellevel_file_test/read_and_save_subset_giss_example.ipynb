{
 "cells": [
  {
   "cell_type": "markdown",
   "metadata": {},
   "source": [
    "###  Gridded model profile data: how AeroCom \"ModelLevel\" files should be prepared\n",
    "\n",
    "This notebook shows an example 4D AeroCom model data file that contains aerosol extinction coefficients and how such files should be prepared, such that pyaerocom can convert the model levels to altitude levels."
   ]
  },
  {
   "cell_type": "code",
   "execution_count": 8,
   "metadata": {},
   "outputs": [],
   "source": [
    "file = '/lustre/storeA/project/aerocom/aerocom-users-database/AEROCOM-PHASE-III/GISS-MATRIX_GLOFIR0p5/renamed/aerocom3_GISS-MATRIX_GLOFIR0p5_ec550aer_ModelLevel_2008_daily.nc'"
   ]
  },
  {
   "cell_type": "code",
   "execution_count": 10,
   "metadata": {},
   "outputs": [
    {
     "data": {
      "text/plain": [
       "<xarray.Dataset>\n",
       "Dimensions:    (bnds: 2, lat: 90, lev: 40, lon: 144, time: 365)\n",
       "Coordinates:\n",
       "  * time       (time) object 2008-01-01 12:00:00 ... 2008-12-31 12:00:00\n",
       "  * lev        (lev) float64 0.95 0.93 0.91 0.89 0.87 ... 0.23 0.21 0.19 0.17\n",
       "  * lat        (lat) float64 -89.0 -87.0 -85.0 -83.0 ... 83.0 85.0 87.0 89.0\n",
       "  * lon        (lon) float64 1.25 3.75 6.25 8.75 ... 351.2 353.8 356.2 358.8\n",
       "Dimensions without coordinates: bnds\n",
       "Data variables:\n",
       "    time_bnds  (time, bnds) object ...\n",
       "    lev_bnds   (lev, bnds) float64 ...\n",
       "    p0         float32 ...\n",
       "    a          (lev) float64 ...\n",
       "    b          (lev) float64 ...\n",
       "    ps         (time, lat, lon) float32 ...\n",
       "    a_bnds     (lev, bnds) float64 ...\n",
       "    b_bnds     (lev, bnds) float64 ...\n",
       "    lat_bnds   (lat, bnds) float64 ...\n",
       "    lon_bnds   (lon, bnds) float64 ...\n",
       "    ec550aer   (time, lev, lat, lon) float32 ...\n",
       "Attributes:\n",
       "    institution:            NASA/GISS (Goddard Institute for Space Studies) N...\n",
       "    institute_id:           NASA-GISS\n",
       "    experiment_id:          GLOFIR0p5\n",
       "    source:                 GISS-MATRIX-GLOFIR0p5-MATRIXEQSAM_AEROBB2s Atmosp...\n",
       "    model_id:               GISS-MATRIX-GLOFIR0p5\n",
       "    forcing:                N/A\n",
       "    parent_experiment_id:   N/A\n",
       "    parent_experiment_rip:  N/A\n",
       "    branch_time:            0.0\n",
       "    contact:                Kenneth Lo (cdkkl@giss.nasa.gov)\n",
       "    references:             http://data.giss.nasa.gov/modelE/ar5\n",
       "    initialization_method:  1\n",
       "    physics_version:        1\n",
       "    tracking_id:            10b022b3-0597-490f-8d97-24c074853a57\n",
       "    product:                output\n",
       "    experiment:             GLOFIR0p5\n",
       "    frequency:              day\n",
       "    creation_date:          2017-03-09T23:41:42Z\n",
       "    history:                2017-03-09T23:41:42Z CMOR rewrote data to comply ...\n",
       "    Conventions:            CF-1.3\n",
       "    project_id:             AEROCOM-ACC\n",
       "    table_id:               Table 3D-D (July 2009) 6053da228d695447dc6f66720d...\n",
       "    title:                  GISS-MATRIX-GLOFIR0p5 model output prepared for A...\n",
       "    parent_experiment:      N/A\n",
       "    modeling_realm:         REALM\n",
       "    realization:            1\n",
       "    cmor_version:           2.5.7"
      ]
     },
     "execution_count": 10,
     "metadata": {},
     "output_type": "execute_result"
    }
   ],
   "source": [
    "import xarray as xarr\n",
    "\n",
    "ds = xarr.open_dataset(file)\n",
    "ds"
   ]
  },
  {
   "cell_type": "code",
   "execution_count": 13,
   "metadata": {},
   "outputs": [],
   "source": [
    "subset = ds.isel(time=([0,1]))"
   ]
  },
  {
   "cell_type": "code",
   "execution_count": 14,
   "metadata": {},
   "outputs": [
    {
     "data": {
      "text/plain": [
       "'aerocom3_GISS-MATRIX_GLOFIR0p5_ec550aer_ModelLevel_2008_daily.nc'"
      ]
     },
     "execution_count": 14,
     "metadata": {},
     "output_type": "execute_result"
    }
   ],
   "source": [
    "import os\n",
    "os.path.basename(fname)\n",
    "#subset.to_netcdf()"
   ]
  }
 ],
 "metadata": {
  "kernelspec": {
   "display_name": "Python 3",
   "language": "python",
   "name": "python3"
  },
  "language_info": {
   "codemirror_mode": {
    "name": "ipython",
    "version": 3
   },
   "file_extension": ".py",
   "mimetype": "text/x-python",
   "name": "python",
   "nbconvert_exporter": "python",
   "pygments_lexer": "ipython3",
   "version": "3.6.8"
  }
 },
 "nbformat": 4,
 "nbformat_minor": 2
}
