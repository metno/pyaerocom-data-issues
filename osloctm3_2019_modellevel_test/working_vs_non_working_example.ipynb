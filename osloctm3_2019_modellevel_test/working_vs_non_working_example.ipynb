{
 "cells": [
  {
   "cell_type": "markdown",
   "metadata": {},
   "source": [
    "# Compare ModelLevel files for AeroCom analysis\n",
    "\n",
    "This notebook illustrates common issues that can occur when reading 4D gridded model data into pyaerocom (in the following referred to as *ModelLevel*), i.e. data that contains a vertical dimension in addition to latitude, longitude and time dimension. 2 example files are read using pyaerocom that contain 4D ModelLevel fields (from recent AeroCom experiments), in order to illustrate common issues that occur with the vertical dimension, if the files do not strictly follow the [CF conventions](http://cfconventions.org/index.html).\n",
    "\n",
    "## Preface on CF conventions and data preparation\n",
    "\n",
    "pyaerocom uses the [iris](https://scitools.org.uk/iris/docs/latest/index.html) for reading of NetCDF files. iris (and pyaerocom) requires, that the NetCDF files follow the CF conventions. \n",
    "\n",
    "**Most importantly, for a successful import of the data, it is important that all variables, attributes, etc in the file follow the CF conventions and include relevant definitions of `standard_name`, `units`, etc. wherever applicable.** \n",
    "\n",
    "You can check here for existing standards:\n",
    "\n",
    "http://cfconventions.org/Data/cf-standard-names/65/build/cf-standard-name-table.html\n",
    "\n",
    "As mentioned above, here we focus on supported standard ***vertical coordinates***, which allow to convert model levels to pressure fields, and ultimately, to altitudes above sea level (for each grid point). To read more about CF compliant vertical coordinates, and how they should be defined in the NetCDF files, see here:\n",
    "\n",
    "http://cfconventions.org/Data/cf-conventions/cf-conventions-1.0/build/apd.html\n",
    "\n",
    "If you intend to submit data to AeroCom experiments, please make use of the online CF checker, which can be found here:\n",
    "\n",
    "http://pumatest.nerc.ac.uk/cgi-bin/cf-checker.pl?cfversion=auto\n",
    "\n",
    "## Data used in this notebook\n",
    "\n",
    "In this notebook, 4D Aerosol extinction fields from the following two models are read (the corresponding files are specified below and can be found in this repository):\n",
    "\n",
    "- GISS-MATRIX_GLOFIR0p5  (working)\n",
    "- OsloCTM3v1.01-met2010_AP3-CTRL (partly working)\n",
    "\n",
    "###  Data files (all available in this repo)"
   ]
  },
  {
   "cell_type": "code",
   "execution_count": 26,
   "metadata": {},
   "outputs": [],
   "source": [
    "FILE1_GISS_OK = 'aerocom3_GISS-MATRIX_GLOFIR0p5_ec550aer_ModelLevel_2008_daily.nc'\n",
    "FILE2_OSLOCTM_PARTLYOK = 'aerocom3_OsloCTM3v1.01-met2010_AP3-CTRL_ec550aer_ModelLevel_2010_monthly_CORR.nc'"
   ]
  },
  {
   "cell_type": "markdown",
   "metadata": {},
   "source": [
    "**NOTE**: the 2. file from OsloCTM (`FILE2_OSLOCTM_PARTLYOK`) was created from file \n",
    "```\n",
    "aerocom3_OsloCTM3v1.01-met2010_AP3-CTRL_ec550aer_ModelLevel_2010_monthly.nc\n",
    "```\n",
    "in script \n",
    "```\n",
    "test_read.py\n",
    "``` \n",
    "\n",
    "which both can be found in this repo."
   ]
  },
  {
   "cell_type": "code",
   "execution_count": 2,
   "metadata": {},
   "outputs": [
    {
     "name": "stderr",
     "output_type": "stream",
     "text": [
      "Initating pyaerocom configuration\n",
      "Checking database access...\n",
      "Checking access to: /lustre/storeA\n",
      "Access to lustre database: True\n",
      "Init data paths for lustre\n",
      "Expired time: 0.018 s\n"
     ]
    }
   ],
   "source": [
    "import pyaerocom as pya"
   ]
  },
  {
   "cell_type": "markdown",
   "metadata": {},
   "source": [
    "### Example 1: GISS (EVERYTHING WELL DEFINED)"
   ]
  },
  {
   "cell_type": "code",
   "execution_count": 3,
   "metadata": {},
   "outputs": [
    {
     "name": "stderr",
     "output_type": "stream",
     "text": [
      "/home/jonasg/anaconda3/lib/python3.6/site-packages/iris/fileformats/cf.py:1069: UserWarning: Ignoring formula terms variable 'ps' referenced by data variable 'b_bnds' via variable 'lev': Dimensions ('time', 'lat', 'lon') do not span ('lev', 'bnds')\n",
      "  warnings.warn(msg)\n",
      "/home/jonasg/anaconda3/lib/python3.6/site-packages/iris/fileformats/cf.py:1069: UserWarning: Ignoring formula terms variable 'ps' referenced by data variable 'a_bnds' via variable 'lev': Dimensions ('time', 'lat', 'lon') do not span ('lev', 'bnds')\n",
      "  warnings.warn(msg)\n",
      "/home/jonasg/anaconda3/lib/python3.6/site-packages/iris/fileformats/netcdf.py:599: UserWarning: Unable to find coordinate for variable 'ps'\n",
      "  '{!r}'.format(name))\n",
      "/home/jonasg/anaconda3/lib/python3.6/site-packages/iris/fileformats/netcdf.py:599: UserWarning: Unable to find coordinate for variable 'ps'\n",
      "  '{!r}'.format(name))\n"
     ]
    }
   ],
   "source": [
    "data_giss = pya.GriddedData(FILE1_GISS_OK, var_name='ec550aer')"
   ]
  },
  {
   "cell_type": "code",
   "execution_count": 4,
   "metadata": {},
   "outputs": [
    {
     "name": "stdout",
     "output_type": "stream",
     "text": [
      "pyaerocom.GriddedData: n/d\n",
      "Grid data: Aerosol Extinction @550nm                                (time: 2; atmosphere_hybrid_sigma_pressure_coordinate: 40; latitude: 90; longitude: 144)\n",
      "     Dimension coordinates:\n",
      "          time                                                x                                               -             -              -\n",
      "          atmosphere_hybrid_sigma_pressure_coordinate         -                                               x             -              -\n",
      "          latitude                                            -                                               -             x              -\n",
      "          longitude                                           -                                               -             -              x\n",
      "     Auxiliary coordinates:\n",
      "          surface_air_pressure                                x                                               -             x              x\n",
      "          hybrid sigma coordinate A coefficient for layer     -                                               x             -              -\n",
      "          hybrid sigma coordinate B coefficient for layer     -                                               x             -              -\n",
      "          vertical pressure                                   -                                               x             -              -\n",
      "     Derived coordinates:\n",
      "          air_pressure                                        x                                               x             x              x\n",
      "     Scalar coordinates:\n",
      "          reference pressure for hybrid sigma coordinate: 100000.0 Pa\n",
      "     Attributes:\n",
      "          Conventions: CF-1.3\n",
      "          associated_files: gridspecFile: gridspec_REALM_fx_GISS-MATRIX-GLOFIR0p5_r0i0p0.nc\n",
      "          branch_time: 0.0\n",
      "          cmor_version: 2.5.7\n",
      "          contact: Kenneth Lo (cdkkl@giss.nasa.gov)\n",
      "          creation_date: 2017-03-09T23:41:42Z\n",
      "          experiment: GLOFIR0p5\n",
      "          experiment_id: GLOFIR0p5\n",
      "          forcing: N/A\n",
      "          frequency: day\n",
      "          history: 2017-03-09T23:41:42Z altered by CMOR: replaced missing value flag (-1e+30)...\n",
      "          initialization_method: 1\n",
      "          institute_id: NASA-GISS\n",
      "          institution: NASA/GISS (Goddard Institute for Space Studies) New York, NY\n",
      "          invalid_standard_name: volume_extinction_coeffcient_in_air_due_to_ambient_aerosol_particles\n",
      "          model_id: GISS-MATRIX-GLOFIR0p5\n",
      "          modeling_realm: REALM\n",
      "          original_name: ec550aer\n",
      "          parent_experiment: N/A\n",
      "          parent_experiment_id: N/A\n",
      "          parent_experiment_rip: N/A\n",
      "          physics_version: 1\n",
      "          product: output\n",
      "          project_id: AEROCOM-ACC\n",
      "          realization: 1\n",
      "          references: http://data.giss.nasa.gov/modelE/ar5\n",
      "          source: GISS-MATRIX-GLOFIR0p5-MATRIXEQSAM_AEROBB2s Atmosphere: GISS-E2; Ocean:...\n",
      "          table_id: Table 3D-D (July 2009) 6053da228d695447dc6f66720d2bf9f8\n",
      "          title: GISS-MATRIX-GLOFIR0p5 model output prepared for AEROCOM-ACC GLOFIR0p5\n",
      "          tracking_id: 10b022b3-0597-490f-8d97-24c074853a57\n",
      "     Cell methods:\n",
      "          mean: time\n"
     ]
    }
   ],
   "source": [
    "print(data_giss)"
   ]
  },
  {
   "cell_type": "markdown",
   "metadata": {},
   "source": [
    "#### IMPORTANT REMARK\n",
    "\n",
    "If you look in the output you can see and entry `air_pressure` under `Derived coordinates`. This is done automatiExamplecally by [iris](https://scitools.org.uk/iris/docs/latest/) library but only works if all required specificat\n",
    "ions are available and follow the CF conventions. "
   ]
  },
  {
   "cell_type": "markdown",
   "metadata": {},
   "source": [
    "### Example 2: OsloCTM3 (PARTLY WORKING)"
   ]
  },
  {
   "cell_type": "code",
   "execution_count": 6,
   "metadata": {},
   "outputs": [],
   "source": [
    "data_osloctm_corr = pya.GriddedData(FILE2_OSLOCTM_PARTLYOK, var_name='ec550aer')"
   ]
  },
  {
   "cell_type": "code",
   "execution_count": 7,
   "metadata": {},
   "outputs": [
    {
     "name": "stdout",
     "output_type": "stream",
     "text": [
      "pyaerocom.GriddedData: n/d\n",
      "Grid data: ec550aer                                             (time: 12; atmosphere_hybrid_sigma_pressure_coordinate: 60; latitude: 80; longitude: 160)\n",
      "     Dimension coordinates:\n",
      "          time                                            x                                                -             -              -\n",
      "          atmosphere_hybrid_sigma_pressure_coordinate     -                                                x             -              -\n",
      "          latitude                                        -                                                -             x              -\n",
      "          longitude                                       -                                                -             -              x\n",
      "     Attributes:\n",
      "          Modelinfo1: OsloCTM3 is a 3D Chemical Transport Model\n",
      "          Modelinfo2: It is driven by ECMWF meteorological data\n",
      "          contactinfo: gunnar.myhre@cicero.oslo.no\n",
      "          creation_date: Thu May  2 12:20:48 2019\n",
      "          institution: CICERO\n",
      "          references: Lund et al., 2018 (GMD, 11, 4909-4931) &      Myhre et al. 2009 (ACP, 9,...\n",
      "          title: AEROCOM phase III output from OsloCTM3\n"
     ]
    }
   ],
   "source": [
    "print(data_osloctm_corr)"
   ]
  },
  {
   "cell_type": "markdown",
   "metadata": {},
   "source": [
    "As you can see, the data contains the four coordinates, but here the pressure was not automatically derived. At the moment it is unclear why iris does not derive the 4D pressure field here (like it does for the previously shown GISS data), since the NetCDF file actually contains all relevant information to convert, which you can check when opening the file with xarray:"
   ]
  },
  {
   "cell_type": "code",
   "execution_count": 16,
   "metadata": {},
   "outputs": [
    {
     "name": "stdout",
     "output_type": "stream",
     "text": [
      "<xarray.Dataset>\n",
      "Dimensions:    (bnds: 2, lat: 80, lev: 60, lon: 160, time: 12)\n",
      "Coordinates:\n",
      "  * lon        (lon) float32 0.0 2.25 4.5 6.75 9.0 ... 351.0 353.25 355.5 357.75\n",
      "  * lat        (lat) float32 -88.875 -86.625 -84.375 ... 84.375 86.625 88.875\n",
      "  * lev        (lev) float32 0.0 1.0 2.0 3.0 4.0 ... 55.0 56.0 57.0 58.0 59.0\n",
      "  * time       (time) datetime64[ns] 2009-12-31 2010-01-01 ... 2010-01-11\n",
      "Dimensions without coordinates: bnds\n",
      "Data variables:\n",
      "    ap         (lev) float32 ...\n",
      "    b          (lev) float32 ...\n",
      "    lon_bnds   (lon, bnds) float32 ...\n",
      "    lat_bnds   (lat, bnds) float32 ...\n",
      "    ap_bnds    (lev, bnds) float32 ...\n",
      "    b_bnds     (lev, bnds) float32 ...\n",
      "    time_bnds  (time, bnds) datetime64[ns] ...\n",
      "    ps         (time, lat, lon) float32 ...\n",
      "    ec550aer   (time, lev, lat, lon) float32 ...\n",
      "Attributes:\n",
      "    title:          AEROCOM phase III output from OsloCTM3\n",
      "    institution:    CICERO\n",
      "    Modelinfo1:     OsloCTM3 is a 3D Chemical Transport Model\n",
      "    Modelinfo2:     It is driven by ECMWF meteorological data\n",
      "    contactinfo:    gunnar.myhre@cicero.oslo.no\n",
      "    references:     Lund et al., 2018 (GMD, 11, 4909-4931) &      Myhre et al...\n",
      "    creation_date:  Thu May  2 12:20:48 2019\n"
     ]
    }
   ],
   "source": [
    "import xarray as xarr\n",
    "\n",
    "ds_osloctm = xarr.open_dataset(FILE2_OSLOCTM_PARTLYOK)\n",
    "print(ds_osloctm)"
   ]
  },
  {
   "cell_type": "markdown",
   "metadata": {},
   "source": [
    "That is, the file contains the  variables `ap, b, ps` that are required to convert the model levels into a pressure field as defined in [here](http://cfconventions.org/Data/cf-conventions/cf-conventions-1.0/build/apd.html) (Example D.3), i.e.:\n",
    "\n",
    "```\n",
    "p(n,k,j,i) = ap(k) + b(k)*ps(n,j,i)\n",
    "```\n",
    "\n",
    "The reason, why iris is not converting to pressure, may be because the formula term is wrong in OsloCTM:"
   ]
  },
  {
   "cell_type": "code",
   "execution_count": 21,
   "metadata": {},
   "outputs": [
    {
     "data": {
      "text/plain": [
       "<xarray.DataArray 'lev' (lev: 60)>\n",
       "array([ 0.,  1.,  2.,  3.,  4.,  5.,  6.,  7.,  8.,  9., 10., 11., 12., 13.,\n",
       "       14., 15., 16., 17., 18., 19., 20., 21., 22., 23., 24., 25., 26., 27.,\n",
       "       28., 29., 30., 31., 32., 33., 34., 35., 36., 37., 38., 39., 40., 41.,\n",
       "       42., 43., 44., 45., 46., 47., 48., 49., 50., 51., 52., 53., 54., 55.,\n",
       "       56., 57., 58., 59.], dtype=float32)\n",
       "Coordinates:\n",
       "  * lev      (lev) float32 0.0 1.0 2.0 3.0 4.0 5.0 ... 55.0 56.0 57.0 58.0 59.0\n",
       "Attributes:\n",
       "    units:          1\n",
       "    axis:           Z\n",
       "    long_name:      hybrid sigma pressure coordinate\n",
       "    standard_name:  atmosphere_hybrid_sigma_pressure_coordinate\n",
       "    formula:        lev=ap+b*ps"
      ]
     },
     "execution_count": 21,
     "metadata": {},
     "output_type": "execute_result"
    }
   ],
   "source": [
    "ds_osloctm.lev"
   ]
  },
  {
   "cell_type": "markdown",
   "metadata": {},
   "source": [
    "I.e. comparing what is written in GISS:"
   ]
  },
  {
   "cell_type": "code",
   "execution_count": 24,
   "metadata": {},
   "outputs": [
    {
     "data": {
      "text/plain": [
       "<xarray.DataArray 'lev' (lev: 40)>\n",
       "array([0.95, 0.93, 0.91, 0.89, 0.87, 0.85, 0.83, 0.81, 0.79, 0.77, 0.75, 0.73,\n",
       "       0.71, 0.69, 0.67, 0.65, 0.63, 0.61, 0.59, 0.57, 0.55, 0.53, 0.51, 0.49,\n",
       "       0.47, 0.45, 0.43, 0.41, 0.39, 0.37, 0.35, 0.33, 0.31, 0.29, 0.27, 0.25,\n",
       "       0.23, 0.21, 0.19, 0.17])\n",
       "Coordinates:\n",
       "  * lev      (lev) float64 0.95 0.93 0.91 0.89 0.87 ... 0.25 0.23 0.21 0.19 0.17\n",
       "Attributes:\n",
       "    bounds:         lev_bnds\n",
       "    units:          1\n",
       "    axis:           Z\n",
       "    positive:       down\n",
       "    long_name:      hybrid sigma pressure coordinate\n",
       "    standard_name:  atmosphere_hybrid_sigma_pressure_coordinate\n",
       "    formula:        p(n,k,j,i) = a(k)*p0 + b(k)*ps(n,j,i)\n",
       "    formula_terms:  p0: p0 a: a b: b ps: ps"
      ]
     },
     "execution_count": 24,
     "metadata": {},
     "output_type": "execute_result"
    }
   ],
   "source": [
    "ds_giss = xarr.open_dataset(FILE1_GISS_OK)\n",
    "ds_giss.lev"
   ]
  },
  {
   "cell_type": "markdown",
   "metadata": {},
   "source": [
    "2 things are obvious when comparing the definition of the `lev` coordinate between the two models:\n",
    "\n",
    "   1. GISS follows the standard nomenclature for `formula` (cf. [here](http://cfconventions.org/Data/cf-conventions/cf-conventions-1.0/build/apd.html)) and OsloCTM does not.\n",
    "   2. OsloCTM misses mapping specs `formula_terms` that are required to link variable names in the file with the variables in the formula term (it uses the variable names directly).\n",
    "   \n",
    "**NOTE**: it is unclear at the moment whether this causes the problems."
   ]
  }
 ],
 "metadata": {
  "kernelspec": {
   "display_name": "Python 3",
   "language": "python",
   "name": "python3"
  },
  "language_info": {
   "codemirror_mode": {
    "name": "ipython",
    "version": 3
   },
   "file_extension": ".py",
   "mimetype": "text/x-python",
   "name": "python",
   "nbconvert_exporter": "python",
   "pygments_lexer": "ipython3",
   "version": "3.6.8"
  }
 },
 "nbformat": 4,
 "nbformat_minor": 2
}
