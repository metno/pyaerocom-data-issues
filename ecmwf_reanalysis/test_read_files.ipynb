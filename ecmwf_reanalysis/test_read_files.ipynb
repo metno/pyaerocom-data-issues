{
 "cells": [
  {
   "cell_type": "markdown",
   "metadata": {},
   "source": [
    "# Test read new ECMWF data and altitude field\n",
    "\n",
    "**DATE: 8/2/2018**\n"
   ]
  },
  {
   "cell_type": "code",
   "execution_count": 1,
   "metadata": {},
   "outputs": [
    {
     "name": "stderr",
     "output_type": "stream",
     "text": [
      "Init data paths for lustre\n"
     ]
    },
    {
     "name": "stdout",
     "output_type": "stream",
     "text": [
      "0.007927179336547852 s\n"
     ]
    }
   ],
   "source": [
    "import pyaerocom as pya\n",
    "\n",
    "DIR = '/lustre/storeA/project/aerocom/aerocom-users-database/ECMWF/ECMWF_GSTX_T255/renamed/'\n",
    "\n",
    "EC_FILE = DIR + 'ECMWF_GSTX.daily.ec532aer.2010.nc'\n",
    "ALT_FILE = DIR + 'ECMWF_GSTX.daily.z.2010.nc'\n",
    "\n",
    "pya.change_verbosity('warning')"
   ]
  },
  {
   "cell_type": "markdown",
   "metadata": {},
   "source": [
    "### Load file with altitude data"
   ]
  },
  {
   "cell_type": "code",
   "execution_count": 2,
   "metadata": {},
   "outputs": [
    {
     "name": "stderr",
     "output_type": "stream",
     "text": [
      "/home/jonasg/anaconda3/lib/python3.6/site-packages/iris/fileformats/_pyke_rules/compiled_krb/fc_rules_cf_fc.py:2029: UserWarning: Gracefully filling 'lat' dimension coordinate masked points\n",
      "  warnings.warn(msg.format(str(cf_coord_var.cf_name)))\n",
      "/home/jonasg/anaconda3/lib/python3.6/site-packages/iris/fileformats/_pyke_rules/compiled_krb/fc_rules_cf_fc.py:2029: UserWarning: Gracefully filling 'lon' dimension coordinate masked points\n",
      "  warnings.warn(msg.format(str(cf_coord_var.cf_name)))\n",
      "/home/jonasg/anaconda3/lib/python3.6/site-packages/iris/fileformats/_pyke_rules/compiled_krb/fc_rules_cf_fc.py:2029: UserWarning: Gracefully filling 'time' dimension coordinate masked points\n",
      "  warnings.warn(msg.format(str(cf_coord_var.cf_name)))\n",
      "/home/jonasg/anaconda3/lib/python3.6/site-packages/iris/fileformats/_pyke_rules/compiled_krb/fc_rules_cf_fc.py:2029: UserWarning: Gracefully filling 'level' dimension coordinate masked points\n",
      "  warnings.warn(msg.format(str(cf_coord_var.cf_name)))\n"
     ]
    },
    {
     "data": {
      "text/html": [
       "\n",
       "<style>\n",
       "  a.iris {\n",
       "      text-decoration: none !important;\n",
       "  }\n",
       "  table.iris {\n",
       "      white-space: pre;\n",
       "      border: 1px solid;\n",
       "      border-color: #9c9c9c;\n",
       "      font-family: monaco, monospace;\n",
       "  }\n",
       "  th.iris {\n",
       "      background: #303f3f;\n",
       "      color: #e0e0e0;\n",
       "      border-left: 1px solid;\n",
       "      border-color: #9c9c9c;\n",
       "      font-size: 1.05em;\n",
       "      min-width: 50px;\n",
       "      max-width: 125px;\n",
       "  }\n",
       "  tr.iris :first-child {\n",
       "      border-right: 1px solid #9c9c9c !important;\n",
       "  }\n",
       "  td.iris-title {\n",
       "      background: #d5dcdf;\n",
       "      border-top: 1px solid #9c9c9c;\n",
       "      font-weight: bold;\n",
       "  }\n",
       "  .iris-word-cell {\n",
       "      text-align: left !important;\n",
       "      white-space: pre;\n",
       "  }\n",
       "  .iris-subheading-cell {\n",
       "      padding-left: 2em !important;\n",
       "  }\n",
       "  .iris-inclusion-cell {\n",
       "      padding-right: 1em !important;\n",
       "  }\n",
       "  .iris-panel-body {\n",
       "      padding-top: 0px;\n",
       "  }\n",
       "  .iris-panel-title {\n",
       "      padding-left: 3em;\n",
       "  }\n",
       "  .iris-panel-title {\n",
       "      margin-top: 7px;\n",
       "  }\n",
       "</style>\n",
       "<table class=\"iris\" id=\"140416676469952\">\n",
       "    <tr class=\"iris\">\n",
       "<th class=\"iris iris-word-cell\">Geopotential (m)</th>\n",
       "<th class=\"iris iris-word-cell\">time</th>\n",
       "<th class=\"iris iris-word-cell\">model_level_number</th>\n",
       "<th class=\"iris iris-word-cell\">latitude</th>\n",
       "<th class=\"iris iris-word-cell\">longitude</th>\n",
       "</tr>\n",
       "    <tr class=\"iris\">\n",
       "<td class=\"iris-word-cell iris-subheading-cell\">Shape</td>\n",
       "<td class=\"iris iris-inclusion-cell\">365</td>\n",
       "<td class=\"iris iris-inclusion-cell\">60</td>\n",
       "<td class=\"iris iris-inclusion-cell\">241</td>\n",
       "<td class=\"iris iris-inclusion-cell\">480</td>\n",
       "</td>\n",
       "    <tr class=\"iris\">\n",
       "    <td class=\"iris-title iris-word-cell\">Dimension coordinates</td>\n",
       "    <td class=\"iris-title\"></td>\n",
       "    <td class=\"iris-title\"></td>\n",
       "    <td class=\"iris-title\"></td>\n",
       "    <td class=\"iris-title\"></td>\n",
       "</tr>\n",
       "<tr class=\"iris\">\n",
       "    <td class=\"iris-word-cell iris-subheading-cell\">\ttime</td>\n",
       "    <td class=\"iris-inclusion-cell\">x</td>\n",
       "    <td class=\"iris-inclusion-cell\">-</td>\n",
       "    <td class=\"iris-inclusion-cell\">-</td>\n",
       "    <td class=\"iris-inclusion-cell\">-</td>\n",
       "</tr>\n",
       "<tr class=\"iris\">\n",
       "    <td class=\"iris-word-cell iris-subheading-cell\">\tmodel_level_number</td>\n",
       "    <td class=\"iris-inclusion-cell\">-</td>\n",
       "    <td class=\"iris-inclusion-cell\">x</td>\n",
       "    <td class=\"iris-inclusion-cell\">-</td>\n",
       "    <td class=\"iris-inclusion-cell\">-</td>\n",
       "</tr>\n",
       "<tr class=\"iris\">\n",
       "    <td class=\"iris-word-cell iris-subheading-cell\">\tlatitude</td>\n",
       "    <td class=\"iris-inclusion-cell\">-</td>\n",
       "    <td class=\"iris-inclusion-cell\">-</td>\n",
       "    <td class=\"iris-inclusion-cell\">x</td>\n",
       "    <td class=\"iris-inclusion-cell\">-</td>\n",
       "</tr>\n",
       "<tr class=\"iris\">\n",
       "    <td class=\"iris-word-cell iris-subheading-cell\">\tlongitude</td>\n",
       "    <td class=\"iris-inclusion-cell\">-</td>\n",
       "    <td class=\"iris-inclusion-cell\">-</td>\n",
       "    <td class=\"iris-inclusion-cell\">-</td>\n",
       "    <td class=\"iris-inclusion-cell\">x</td>\n",
       "</tr>\n",
       "<tr class=\"iris\">\n",
       "    <td class=\"iris-title iris-word-cell\">Attributes</td>\n",
       "    <td class=\"iris-title\"></td>\n",
       "    <td class=\"iris-title\"></td>\n",
       "    <td class=\"iris-title\"></td>\n",
       "    <td class=\"iris-title\"></td>\n",
       "</tr>\n",
       "<tr class=\"iris\">\n",
       "    <td class=\"iris-word-cell iris-subheading-cell\">\tCDI</td>\n",
       "    <td class=\"iris-word-cell\" colspan=\"4\">Climate Data Interface version ?? (http://mpimet.mpg.de/cdi)</td>\n",
       "</tr>\n",
       "<tr class=\"iris\">\n",
       "    <td class=\"iris-word-cell iris-subheading-cell\">\tCDO</td>\n",
       "    <td class=\"iris-word-cell\" colspan=\"4\">Climate Data Operators version 1.7.0 (http://mpimet.mpg.de/cdo)</td>\n",
       "</tr>\n",
       "<tr class=\"iris\">\n",
       "    <td class=\"iris-word-cell iris-subheading-cell\">\tConventions</td>\n",
       "    <td class=\"iris-word-cell\" colspan=\"4\">CF-1.6</td>\n",
       "</tr>\n",
       "<tr class=\"iris\">\n",
       "    <td class=\"iris-word-cell iris-subheading-cell\">\tNCO</td>\n",
       "    <td class=\"iris-word-cell\" colspan=\"4\">\"4.5.4\"</td>\n",
       "</tr>\n",
       "<tr class=\"iris\">\n",
       "    <td class=\"iris-word-cell iris-subheading-cell\">\thistory</td>\n",
       "    <td class=\"iris-word-cell\" colspan=\"4\">Thu Feb  7 13:18:25 2019: ncks -C -v time ECMWF_GSTX.daily.time.2010.nc...</td>\n",
       "</tr>\n",
       "<tr class=\"iris\">\n",
       "    <td class=\"iris-word-cell iris-subheading-cell\">\thistory_of_appended_files</td>\n",
       "    <td class=\"iris-word-cell\" colspan=\"4\">Thu Feb  7 11:44:31 2019: Appended file GSTX_monthly_01.nc had following...</td>\n",
       "</tr>\n",
       "<tr class=\"iris\">\n",
       "    <td class=\"iris-word-cell iris-subheading-cell\">\tnco_openmp_thread_number</td>\n",
       "    <td class=\"iris-word-cell\" colspan=\"4\">1</td>\n",
       "</tr>\n",
       "<tr class=\"iris\">\n",
       "    <td class=\"iris-title iris-word-cell\">Cell methods</td>\n",
       "    <td class=\"iris-title\"></td>\n",
       "    <td class=\"iris-title\"></td>\n",
       "    <td class=\"iris-title\"></td>\n",
       "    <td class=\"iris-title\"></td>\n",
       "</tr>\n",
       "<tr class=\"iris\">\n",
       "    <td class=\"iris-word-cell iris-subheading-cell\">\tmean</td>\n",
       "    <td class=\"iris-word-cell\" colspan=\"4\">step</td>\n",
       "</tr>\n",
       "<tr class=\"iris\">\n",
       "    <td class=\"iris-word-cell iris-subheading-cell\">\tmean</td>\n",
       "    <td class=\"iris-word-cell\" colspan=\"4\">time</td>\n",
       "</tr>\n",
       "</table>\n",
       "        "
      ],
      "text/plain": [
       "<iris 'Cube' of geopotential / (m) (time: 365; model_level_number: 60; latitude: 241; longitude: 480)>"
      ]
     },
     "execution_count": 2,
     "metadata": {},
     "output_type": "execute_result"
    }
   ],
   "source": [
    "alt = pya.GriddedData(ALT_FILE)\n",
    "alt.grid"
   ]
  },
  {
   "cell_type": "markdown",
   "metadata": {},
   "source": [
    "#### Quick check if time stamps are okay"
   ]
  },
  {
   "cell_type": "code",
   "execution_count": 3,
   "metadata": {},
   "outputs": [
    {
     "name": "stdout",
     "output_type": "stream",
     "text": [
      "['2010-01-01T00:00:00.000000' '2010-01-02T00:00:00.000000'\n",
      " '2010-01-03T00:00:00.000000']\n",
      "['2010-12-29T00:00:00.000000' '2010-12-30T00:00:00.000000'\n",
      " '2010-12-31T00:00:00.000000']\n"
     ]
    }
   ],
   "source": [
    "print(alt.time_stamps()[:3])\n",
    "print(alt.time_stamps()[-3:])"
   ]
  },
  {
   "cell_type": "markdown",
   "metadata": {},
   "source": [
    "#### Check if unit is okay"
   ]
  },
  {
   "cell_type": "code",
   "execution_count": 4,
   "metadata": {},
   "outputs": [
    {
     "data": {
      "text/plain": [
       "Unit('m')"
      ]
     },
     "execution_count": 4,
     "metadata": {},
     "output_type": "execute_result"
    }
   ],
   "source": [
    "alt.unit"
   ]
  },
  {
   "cell_type": "markdown",
   "metadata": {},
   "source": [
    "#### Extract altitude data \n",
    "\n",
    "Define two example coordinate, one over ocean (**sl**) and one on the high plateau of Harangervidda (**hv**)."
   ]
  },
  {
   "cell_type": "code",
   "execution_count": 5,
   "metadata": {},
   "outputs": [],
   "source": [
    "import numpy as np\n",
    "lat_sl = 50\n",
    "lon_sl = -20\n",
    "\n",
    "lat_hv = 60.13\n",
    "lon_hv = 7.45"
   ]
  },
  {
   "cell_type": "markdown",
   "metadata": {},
   "source": [
    "Find corresponding indices in data object:"
   ]
  },
  {
   "cell_type": "code",
   "execution_count": 6,
   "metadata": {},
   "outputs": [
    {
     "name": "stdout",
     "output_type": "stream",
     "text": [
      "Lat / lon sealevel coordinate:\n",
      "50.25 -20.25\n"
     ]
    }
   ],
   "source": [
    "lon_idx_sl = np.argmin(np.abs(alt.longitude.points - lon_sl))\n",
    "lat_idx_sl = np.argmin(np.abs(alt.latitude.points - lat_sl))\n",
    "print('Lat / lon sealevel coordinate:')\n",
    "print(alt.latitude.points[lat_idx_sl], alt.longitude.points[lon_idx_sl])"
   ]
  },
  {
   "cell_type": "code",
   "execution_count": 7,
   "metadata": {},
   "outputs": [
    {
     "name": "stdout",
     "output_type": "stream",
     "text": [
      "Lat / lon Hardangervidda coordinate:\n",
      "60.0 7.5\n"
     ]
    }
   ],
   "source": [
    "lon_idx_hv = np.argmin(np.abs(alt.longitude.points - lon_hv))\n",
    "lat_idx_hv = np.argmin(np.abs(alt.latitude.points - lat_hv))\n",
    "print('Lat / lon Hardangervidda coordinate:')\n",
    "print(alt.latitude.points[lat_idx_hv], alt.longitude.points[lon_idx_hv])"
   ]
  },
  {
   "cell_type": "markdown",
   "metadata": {},
   "source": [
    "#### Retrieve arrays with altitude levels in m at both locations (31. January 2010)\n",
    "\n",
    "##### Altitude levels at sea-level coordinate"
   ]
  },
  {
   "cell_type": "code",
   "execution_count": 9,
   "metadata": {},
   "outputs": [
    {
     "name": "stdout",
     "output_type": "stream",
     "text": [
      "[6.43756651e+04 5.67170477e+04 5.23838326e+04 4.88095229e+04\n",
      " 4.57652549e+04 4.31171426e+04 4.07852736e+04 3.87103033e+04\n",
      " 3.68431051e+04 3.51376967e+04 3.35541218e+04 3.20619877e+04\n",
      " 3.06441328e+04 2.92904698e+04 2.79875053e+04 2.67229249e+04\n",
      " 2.54857243e+04 2.42614931e+04 2.30394890e+04 2.18130307e+04\n",
      " 2.05781882e+04 1.93639133e+04 1.82013849e+04 1.70974153e+04\n",
      " 1.60525284e+04 1.50596500e+04 1.41173392e+04 1.32314910e+04\n",
      " 1.24022365e+04 1.16125451e+04 1.08482685e+04 1.01079656e+04\n",
      " 9.38993339e+03 8.69364780e+03 8.01923986e+03 7.36736459e+03\n",
      " 6.73815299e+03 6.13239108e+03 5.55073388e+03 4.99540846e+03\n",
      " 4.46759385e+03 3.96873110e+03 3.49999924e+03 3.06179129e+03\n",
      " 2.65515526e+03 2.28022218e+03 1.93699203e+03 1.62507181e+03\n",
      " 1.34760560e+03 1.10210435e+03 8.85161932e+02 6.95337319e+02\n",
      " 5.32237497e+02 3.94290418e+02 2.81103072e+02 1.90579395e+02\n",
      " 1.21409350e+02 7.00558318e+01 3.33747473e+01 9.27003457e+00]\n"
     ]
    }
   ],
   "source": [
    "alt_levs_sl = alt[30, :, lat_idx_sl, lon_idx_sl].grid.data\n",
    "print(alt_levs_sl)"
   ]
  },
  {
   "cell_type": "markdown",
   "metadata": {},
   "source": [
    "NOTE: these levels should compare with the information found here:\n",
    "\n",
    "https://www.ecmwf.int/en/forecasts/documentation-and-support/60-model-levels"
   ]
  },
  {
   "cell_type": "markdown",
   "metadata": {},
   "source": [
    "##### Altitude levels at Hardangervidda coordinate\n",
    "\n",
    "According to [wikipedia](https://en.wikipedia.org/wiki/Hardangervidda) the average height of Hardangervidda plateau is ~ 1,100 m. "
   ]
  },
  {
   "cell_type": "code",
   "execution_count": 10,
   "metadata": {},
   "outputs": [
    {
     "name": "stdout",
     "output_type": "stream",
     "text": [
      "[64307.4121193  56697.92113166 52400.07705854 48887.86321392\n",
      " 45951.80440431 43426.83574929 41184.83546071 39121.26244764\n",
      " 37164.98160684 35296.73536894 33529.88612902 31876.22423567\n",
      " 30328.02046037 28865.10020663 27466.24084695 26120.17604824\n",
      " 24819.70059746 23554.07217699 22310.71441498 21078.49198222\n",
      " 19849.41364241 18649.28715861 17500.90720479 16404.53578869\n",
      " 15363.05499553 14379.21590664 13450.00543294 12574.63755119\n",
      " 11751.80222265 10982.02346283 10262.55019037  9588.40425809\n",
      "  8953.55948781  8354.47877497  7786.4459801   7245.53098702\n",
      "  6729.24472214  6236.67015833  5766.49725686  5317.80899062\n",
      "  4891.6533906   4488.29246454  4107.4642047   3750.60965369\n",
      "  3417.99081924  3109.47669749  2825.32929619  2565.6796192\n",
      "  2330.78967428  2120.39745367  1933.84793802  1771.01012344\n",
      "  1630.96698282  1513.0634968   1415.46561115  1337.12529489\n",
      "  1276.0774899   1230.22613423  1197.73717364  1175.72852292]\n"
     ]
    }
   ],
   "source": [
    "alt_levs_hv = alt[30, :, lat_idx_hv, lon_idx_hv].grid.data\n",
    "print(alt_levs_hv)"
   ]
  },
  {
   "cell_type": "markdown",
   "metadata": {},
   "source": [
    "### Conclusion altitude conversion\n",
    "\n",
    "Looks good."
   ]
  },
  {
   "cell_type": "markdown",
   "metadata": {},
   "source": [
    "### Retrieve 2 extinction profiles at both coordinates (sea level and Hardangervidda)\n",
    "\n",
    "#### Read extinction data"
   ]
  },
  {
   "cell_type": "code",
   "execution_count": 12,
   "metadata": {},
   "outputs": [
    {
     "name": "stderr",
     "output_type": "stream",
     "text": [
      "/home/jonasg/anaconda3/lib/python3.6/site-packages/iris/fileformats/_pyke_rules/compiled_krb/fc_rules_cf_fc.py:2029: UserWarning: Gracefully filling 'lat' dimension coordinate masked points\n",
      "  warnings.warn(msg.format(str(cf_coord_var.cf_name)))\n",
      "/home/jonasg/anaconda3/lib/python3.6/site-packages/iris/fileformats/_pyke_rules/compiled_krb/fc_rules_cf_fc.py:2029: UserWarning: Gracefully filling 'lon' dimension coordinate masked points\n",
      "  warnings.warn(msg.format(str(cf_coord_var.cf_name)))\n",
      "/home/jonasg/anaconda3/lib/python3.6/site-packages/iris/fileformats/_pyke_rules/compiled_krb/fc_rules_cf_fc.py:2029: UserWarning: Gracefully filling 'time' dimension coordinate masked points\n",
      "  warnings.warn(msg.format(str(cf_coord_var.cf_name)))\n",
      "/home/jonasg/anaconda3/lib/python3.6/site-packages/iris/fileformats/_pyke_rules/compiled_krb/fc_rules_cf_fc.py:2029: UserWarning: Gracefully filling 'level' dimension coordinate masked points\n",
      "  warnings.warn(msg.format(str(cf_coord_var.cf_name)))\n"
     ]
    },
    {
     "data": {
      "text/html": [
       "\n",
       "<style>\n",
       "  a.iris {\n",
       "      text-decoration: none !important;\n",
       "  }\n",
       "  table.iris {\n",
       "      white-space: pre;\n",
       "      border: 1px solid;\n",
       "      border-color: #9c9c9c;\n",
       "      font-family: monaco, monospace;\n",
       "  }\n",
       "  th.iris {\n",
       "      background: #303f3f;\n",
       "      color: #e0e0e0;\n",
       "      border-left: 1px solid;\n",
       "      border-color: #9c9c9c;\n",
       "      font-size: 1.05em;\n",
       "      min-width: 50px;\n",
       "      max-width: 125px;\n",
       "  }\n",
       "  tr.iris :first-child {\n",
       "      border-right: 1px solid #9c9c9c !important;\n",
       "  }\n",
       "  td.iris-title {\n",
       "      background: #d5dcdf;\n",
       "      border-top: 1px solid #9c9c9c;\n",
       "      font-weight: bold;\n",
       "  }\n",
       "  .iris-word-cell {\n",
       "      text-align: left !important;\n",
       "      white-space: pre;\n",
       "  }\n",
       "  .iris-subheading-cell {\n",
       "      padding-left: 2em !important;\n",
       "  }\n",
       "  .iris-inclusion-cell {\n",
       "      padding-right: 1em !important;\n",
       "  }\n",
       "  .iris-panel-body {\n",
       "      padding-top: 0px;\n",
       "  }\n",
       "  .iris-panel-title {\n",
       "      padding-left: 3em;\n",
       "  }\n",
       "  .iris-panel-title {\n",
       "      margin-top: 7px;\n",
       "  }\n",
       "</style>\n",
       "<table class=\"iris\" id=\"140416646979368\">\n",
       "    <tr class=\"iris\">\n",
       "<th class=\"iris iris-word-cell\">Aerosol Optical Depth At 550 Nm (1)</th>\n",
       "<th class=\"iris iris-word-cell\">time</th>\n",
       "<th class=\"iris iris-word-cell\">model_level_number</th>\n",
       "<th class=\"iris iris-word-cell\">latitude</th>\n",
       "<th class=\"iris iris-word-cell\">longitude</th>\n",
       "</tr>\n",
       "    <tr class=\"iris\">\n",
       "<td class=\"iris-word-cell iris-subheading-cell\">Shape</td>\n",
       "<td class=\"iris iris-inclusion-cell\">365</td>\n",
       "<td class=\"iris iris-inclusion-cell\">60</td>\n",
       "<td class=\"iris iris-inclusion-cell\">241</td>\n",
       "<td class=\"iris iris-inclusion-cell\">480</td>\n",
       "</td>\n",
       "    <tr class=\"iris\">\n",
       "    <td class=\"iris-title iris-word-cell\">Dimension coordinates</td>\n",
       "    <td class=\"iris-title\"></td>\n",
       "    <td class=\"iris-title\"></td>\n",
       "    <td class=\"iris-title\"></td>\n",
       "    <td class=\"iris-title\"></td>\n",
       "</tr>\n",
       "<tr class=\"iris\">\n",
       "    <td class=\"iris-word-cell iris-subheading-cell\">\ttime</td>\n",
       "    <td class=\"iris-inclusion-cell\">x</td>\n",
       "    <td class=\"iris-inclusion-cell\">-</td>\n",
       "    <td class=\"iris-inclusion-cell\">-</td>\n",
       "    <td class=\"iris-inclusion-cell\">-</td>\n",
       "</tr>\n",
       "<tr class=\"iris\">\n",
       "    <td class=\"iris-word-cell iris-subheading-cell\">\tmodel_level_number</td>\n",
       "    <td class=\"iris-inclusion-cell\">-</td>\n",
       "    <td class=\"iris-inclusion-cell\">x</td>\n",
       "    <td class=\"iris-inclusion-cell\">-</td>\n",
       "    <td class=\"iris-inclusion-cell\">-</td>\n",
       "</tr>\n",
       "<tr class=\"iris\">\n",
       "    <td class=\"iris-word-cell iris-subheading-cell\">\tlatitude</td>\n",
       "    <td class=\"iris-inclusion-cell\">-</td>\n",
       "    <td class=\"iris-inclusion-cell\">-</td>\n",
       "    <td class=\"iris-inclusion-cell\">x</td>\n",
       "    <td class=\"iris-inclusion-cell\">-</td>\n",
       "</tr>\n",
       "<tr class=\"iris\">\n",
       "    <td class=\"iris-word-cell iris-subheading-cell\">\tlongitude</td>\n",
       "    <td class=\"iris-inclusion-cell\">-</td>\n",
       "    <td class=\"iris-inclusion-cell\">-</td>\n",
       "    <td class=\"iris-inclusion-cell\">-</td>\n",
       "    <td class=\"iris-inclusion-cell\">x</td>\n",
       "</tr>\n",
       "<tr class=\"iris\">\n",
       "    <td class=\"iris-title iris-word-cell\">Attributes</td>\n",
       "    <td class=\"iris-title\"></td>\n",
       "    <td class=\"iris-title\"></td>\n",
       "    <td class=\"iris-title\"></td>\n",
       "    <td class=\"iris-title\"></td>\n",
       "</tr>\n",
       "<tr class=\"iris\">\n",
       "    <td class=\"iris-word-cell iris-subheading-cell\">\tCDI</td>\n",
       "    <td class=\"iris-word-cell\" colspan=\"4\">Climate Data Interface version ?? (http://mpimet.mpg.de/cdi)</td>\n",
       "</tr>\n",
       "<tr class=\"iris\">\n",
       "    <td class=\"iris-word-cell iris-subheading-cell\">\tCDO</td>\n",
       "    <td class=\"iris-word-cell\" colspan=\"4\">Climate Data Operators version 1.7.0 (http://mpimet.mpg.de/cdo)</td>\n",
       "</tr>\n",
       "<tr class=\"iris\">\n",
       "    <td class=\"iris-word-cell iris-subheading-cell\">\tConventions</td>\n",
       "    <td class=\"iris-word-cell\" colspan=\"4\">CF-1.6</td>\n",
       "</tr>\n",
       "<tr class=\"iris\">\n",
       "    <td class=\"iris-word-cell iris-subheading-cell\">\tNCO</td>\n",
       "    <td class=\"iris-word-cell\" colspan=\"4\">\"4.5.4\"</td>\n",
       "</tr>\n",
       "<tr class=\"iris\">\n",
       "    <td class=\"iris-word-cell iris-subheading-cell\">\thistory</td>\n",
       "    <td class=\"iris-word-cell\" colspan=\"4\">Thu Feb  7 11:08:34 2019: ncks -C -v time ECMWF_GSTX.daily.time.2010.nc...</td>\n",
       "</tr>\n",
       "<tr class=\"iris\">\n",
       "    <td class=\"iris-word-cell iris-subheading-cell\">\tnco_openmp_thread_number</td>\n",
       "    <td class=\"iris-word-cell\" colspan=\"4\">1</td>\n",
       "</tr>\n",
       "<tr class=\"iris\">\n",
       "    <td class=\"iris-title iris-word-cell\">Cell methods</td>\n",
       "    <td class=\"iris-title\"></td>\n",
       "    <td class=\"iris-title\"></td>\n",
       "    <td class=\"iris-title\"></td>\n",
       "    <td class=\"iris-title\"></td>\n",
       "</tr>\n",
       "<tr class=\"iris\">\n",
       "    <td class=\"iris-word-cell iris-subheading-cell\">\tmean</td>\n",
       "    <td class=\"iris-word-cell\" colspan=\"4\">step</td>\n",
       "</tr>\n",
       "<tr class=\"iris\">\n",
       "    <td class=\"iris-word-cell iris-subheading-cell\">\tmean</td>\n",
       "    <td class=\"iris-word-cell\" colspan=\"4\">time</td>\n",
       "</tr>\n",
       "</table>\n",
       "        "
      ],
      "text/plain": [
       "<iris 'Cube' of Aerosol optical depth at 550 nm / (1) (time: 365; model_level_number: 60; latitude: 241; longitude: 480)>"
      ]
     },
     "execution_count": 12,
     "metadata": {},
     "output_type": "execute_result"
    }
   ],
   "source": [
    "ec532aer = pya.GriddedData(EC_FILE)\n",
    "ec532aer.grid"
   ]
  },
  {
   "cell_type": "markdown",
   "metadata": {},
   "source": [
    "#### Extract ec532aer profile data at both coordinates and plot\n",
    "\n",
    "##### Sea level coordinate"
   ]
  },
  {
   "cell_type": "code",
   "execution_count": 13,
   "metadata": {},
   "outputs": [
    {
     "data": {
      "text/plain": [
       "masked_array(data=[5.55111512e-17, 5.55111512e-17, 5.55111512e-17,\n",
       "                   5.55111512e-17, 5.55111512e-17, 5.55111512e-17,\n",
       "                   5.55111512e-17, 5.55111512e-17, 5.55111512e-17,\n",
       "                   5.55111512e-17, 5.55111512e-17, 5.55111512e-17,\n",
       "                   5.55111512e-17, 5.55111512e-17, 5.55111512e-17,\n",
       "                   5.55111512e-17, 5.55111512e-17, 5.55111512e-17,\n",
       "                   5.55111512e-17, 5.55111512e-17, 5.55111512e-17,\n",
       "                   5.55111512e-17, 5.55111512e-17, 5.55111512e-17,\n",
       "                   5.55111512e-17, 5.55111512e-17, 5.55111512e-17,\n",
       "                   5.55111512e-17, 5.55111512e-17, 5.55111512e-17,\n",
       "                   1.30050991e-07, 1.30050991e-07, 5.55111512e-17,\n",
       "                   5.55111512e-17, 1.30050991e-07, 1.43056090e-06,\n",
       "                   5.98234559e-06, 1.06641813e-05, 1.14444872e-05,\n",
       "                   1.04040793e-05, 7.28285551e-06, 5.46214163e-06,\n",
       "                   3.77147874e-06, 2.47096883e-06, 2.21086685e-06,\n",
       "                   2.34091784e-06, 2.86112181e-06, 3.38132577e-06,\n",
       "                   2.28889744e-05, 2.26288725e-05, 2.61402492e-05,\n",
       "                   1.50859150e-05, 1.33952521e-05, 1.24848952e-05,\n",
       "                   1.27449971e-05, 1.27449971e-05, 1.24848952e-05,\n",
       "                   1.22247932e-05, 1.22247932e-05, 1.23548442e-05],\n",
       "             mask=False,\n",
       "       fill_value=1e+20)"
      ]
     },
     "execution_count": 13,
     "metadata": {},
     "output_type": "execute_result"
    }
   ],
   "source": [
    "ec_data_sl = ec532aer[30, :, lat_idx_sl, lon_idx_sl].grid.data\n",
    "ec_data_sl"
   ]
  },
  {
   "cell_type": "code",
   "execution_count": 22,
   "metadata": {},
   "outputs": [
    {
     "data": {
      "text/plain": [
       "Text(0.5, 1.0, 'Sea level')"
      ]
     },
     "execution_count": 22,
     "metadata": {},
     "output_type": "execute_result"
    },
    {
     "data": {
      "image/png": "[encoded data removed]",
      "text/plain": [
       "<Figure size 288x576 with 1 Axes>"
      ]
     },
     "metadata": {},
     "output_type": "display_data"
    }
   ],
   "source": [
    "from pyaerocom import VerticalProfile\n",
    "prof = VerticalProfile(ec_data_sl, alt_levs_sl, var_name='ec532aer')\n",
    "ax = prof.plot()\n",
    "ax.set_ylim([0, 15000])\n",
    "ax.set_title('Sea level')"
   ]
  },
  {
   "cell_type": "markdown",
   "metadata": {},
   "source": [
    "##### Hardangervidda coordinate"
   ]
  },
  {
   "cell_type": "code",
   "execution_count": 15,
   "metadata": {},
   "outputs": [
    {
     "data": {
      "text/plain": [
       "masked_array(data=[5.55111512e-17, 5.55111512e-17, 5.55111512e-17,\n",
       "                   5.55111512e-17, 5.55111512e-17, 5.55111512e-17,\n",
       "                   5.55111512e-17, 5.55111512e-17, 5.55111512e-17,\n",
       "                   5.55111512e-17, 5.55111512e-17, 5.55111512e-17,\n",
       "                   5.55111512e-17, 5.55111512e-17, 5.55111512e-17,\n",
       "                   5.55111512e-17, 5.55111512e-17, 5.55111512e-17,\n",
       "                   5.55111512e-17, 5.55111512e-17, 5.55111512e-17,\n",
       "                   5.55111512e-17, 5.55111512e-17, 5.55111512e-17,\n",
       "                   5.55111512e-17, 5.55111512e-17, 5.55111512e-17,\n",
       "                   5.55111512e-17, 5.55111512e-17, 5.55111512e-17,\n",
       "                   5.55111512e-17, 5.55111512e-17, 5.55111512e-17,\n",
       "                   5.55111512e-17, 1.30050991e-07, 6.50254956e-07,\n",
       "                   2.21086685e-06, 3.25127478e-06, 3.90152973e-06,\n",
       "                   5.20203965e-06, 6.76265154e-06, 7.02275352e-06,\n",
       "                   7.28285551e-06, 9.62377335e-06, 1.14444872e-05,\n",
       "                   1.30050991e-05, 1.44356600e-05, 1.52159660e-05,\n",
       "                   1.35253031e-05, 1.05341303e-05, 7.93311046e-06,\n",
       "                   7.41290650e-06, 8.45331443e-06, 9.10356938e-06,\n",
       "                   9.10356938e-06, 9.36367136e-06, 8.97351839e-06,\n",
       "                   8.97351839e-06, 9.62377335e-06, 1.01439773e-05],\n",
       "             mask=False,\n",
       "       fill_value=1e+20)"
      ]
     },
     "execution_count": 15,
     "metadata": {},
     "output_type": "execute_result"
    }
   ],
   "source": [
    "ec_data_hv = ec532aer[30, :, lat_idx_hv, lon_idx_hv].grid.data\n",
    "ec_data_hv"
   ]
  },
  {
   "cell_type": "code",
   "execution_count": 21,
   "metadata": {},
   "outputs": [
    {
     "data": {
      "text/plain": [
       "Text(0.5, 1.0, 'Hardangervidda')"
      ]
     },
     "execution_count": 21,
     "metadata": {},
     "output_type": "execute_result"
    },
    {
     "data": {
      "image/png": "[encoded data removed]",
      "text/plain": [
       "<Figure size 288x576 with 1 Axes>"
      ]
     },
     "metadata": {},
     "output_type": "display_data"
    }
   ],
   "source": [
    "from pyaerocom import VerticalProfile\n",
    "prof = VerticalProfile(ec_data_hv, alt_levs_hv, var_name='ec532aer')\n",
    "ax = prof.plot()\n",
    "ax.set_ylim([0, 15000])\n",
    "ax.set_title('Hardangervidda')"
   ]
  }
 ],
 "metadata": {
  "kernelspec": {
   "display_name": "Python 3",
   "language": "python",
   "name": "python3"
  },
  "language_info": {
   "codemirror_mode": {
    "name": "ipython",
    "version": 3
   },
   "file_extension": ".py",
   "mimetype": "text/x-python",
   "name": "python",
   "nbconvert_exporter": "python",
   "pygments_lexer": "ipython3",
   "version": "3.6.6"
  }
 },
 "nbformat": 4,
 "nbformat_minor": 2
}
