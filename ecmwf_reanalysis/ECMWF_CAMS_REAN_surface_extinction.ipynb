{
 "cells": [
  {
   "cell_type": "code",
   "execution_count": 2,
   "metadata": {},
   "outputs": [],
   "source": [
    "import pyaerocom as pya"
   ]
  },
  {
   "cell_type": "code",
   "execution_count": 5,
   "metadata": {},
   "outputs": [],
   "source": [
    "r = pya.io.ReadGridded('ECMWF_CAMS_REAN')"
   ]
  },
  {
   "cell_type": "code",
   "execution_count": 6,
   "metadata": {},
   "outputs": [
    {
     "name": "stdout",
     "output_type": "stream",
     "text": [
      "\n",
      "Pyaerocom ReadGridded\n",
      "---------------------\n",
      "Model ID: ECMWF_CAMS_REAN\n",
      "Data directory: /lustre/storeA/project/aerocom/aerocom-users-database/ECMWF/ECMWF_CAMS_REAN/renamed\n",
      "Available variables: ['ang4487aer', 'ec532aer3D', 'od440aer', 'od550aer', 'od550bc', 'od550dust', 'od550oa', 'od550so4', 'od550ss', 'od865aer', 'sconcpm10', 'sconcpm25']\n",
      "Available years: [2003, 2004, 2005, 2006, 2007, 2008, 2009, 2010, 2011, 2012, 2013, 2014, 2015, 2016, 2017, 2018, 9999]\n",
      "Available time resolutions ['daily', 'monthly']\n"
     ]
    }
   ],
   "source": [
    "print(r)"
   ]
  },
  {
   "cell_type": "code",
   "execution_count": 16,
   "metadata": {},
   "outputs": [
    {
     "name": "stdout",
     "output_type": "stream",
     "text": [
      "pyaerocom.GriddedData: ECMWF_CAMS_REAN\n",
      "Grid data: Aerosol extinction coefficient at 532 nm / (1/Mm) (time: 365; model_level_number: 60; latitude: 30; longitude: 59)\n",
      "     Dimension coordinates:\n",
      "          time                                         x                        -             -              -\n",
      "          model_level_number                           -                        x             -              -\n",
      "          latitude                                     -                        -             x              -\n",
      "          longitude                                    -                        -             -              x\n",
      "     Attributes:\n",
      "          Conventions: CF-1.6\n",
      "          NCO: \"4.5.4\"\n",
      "          history: Mon Jan 21 12:38:09 2019: ncks -A -v a_model_ave,b_model_ave ERA-Interim_coordvars.nc...\n",
      "          history_of_appended_files: Mon Jan 21 12:38:09 2019: Appended file ERA-Interim_coordvars.nc had no...\n",
      "          nco_openmp_thread_number: 1\n",
      "     Cell methods:\n",
      "          mean: step\n",
      "          mean: time\n"
     ]
    },
    {
     "name": "stderr",
     "output_type": "stream",
     "text": [
      "/home/jonasg/anaconda3/lib/python3.6/site-packages/iris/fileformats/_pyke_rules/compiled_krb/fc_rules_cf_fc.py:1932: UserWarning: Ignoring netCDF variable 'lvl' invalid units 'dimensionless index'\n",
      "  warnings.warn(msg)\n",
      "/home/jonasg/anaconda3/lib/python3.6/site-packages/iris/fileformats/_pyke_rules/compiled_krb/fc_rules_cf_fc.py:1932: UserWarning: Ignoring netCDF variable 'lvl' invalid units 'dimensionless index'\n",
      "  warnings.warn(msg)\n"
     ]
    }
   ],
   "source": [
    "d = r.read_var('ec532aer3D', start=2010)\n",
    "print(d)"
   ]
  },
  {
   "cell_type": "code",
   "execution_count": 17,
   "metadata": {},
   "outputs": [
    {
     "data": {
      "text/plain": [
       "['/lustre/storeA/project/aerocom/aerocom-users-database/ECMWF/ECMWF_CAMS_REAN/renamed/ECMWF_CAMS_REAN.daily.ec532aer3D.2010.nc']"
      ]
     },
     "execution_count": 17,
     "metadata": {},
     "output_type": "execute_result"
    }
   ],
   "source": [
    "d.suppl_info['from_files']"
   ]
  },
  {
   "cell_type": "code",
   "execution_count": 18,
   "metadata": {},
   "outputs": [],
   "source": [
    "import xarray as xray"
   ]
  },
  {
   "cell_type": "code",
   "execution_count": 19,
   "metadata": {},
   "outputs": [
    {
     "name": "stdout",
     "output_type": "stream",
     "text": [
      "<xarray.Dataset>\n",
      "Dimensions:      (lat: 30, level: 60, lon: 59, lvl: 60, time: 365)\n",
      "Coordinates:\n",
      "  * lat          (lat) float32 55.3 54.6 53.9 53.2 52.5 ... 37.1 36.4 35.7 35.0\n",
      "  * level        (level) int32 1 2 3 4 5 6 7 8 9 ... 52 53 54 55 56 57 58 59 60\n",
      "  * lon          (lon) float32 -10.0 -9.3 -8.6 -7.9 -7.2 ... 28.5 29.2 29.9 30.6\n",
      "  * lvl          (lvl) int32 1 2 3 4 5 6 7 8 9 10 ... 52 53 54 55 56 57 58 59 60\n",
      "Dimensions without coordinates: time\n",
      "Data variables:\n",
      "    ec532aer3D   (time, level, lat, lon) float64 ...\n",
      "    a_model_ave  (lvl) float32 ...\n",
      "    b_model_ave  (lvl) float32 ...\n",
      "Attributes:\n",
      "    Conventions:                CF-1.6\n",
      "    history:                    Mon Jan 21 12:38:09 2019: ncks -A -v a_model_...\n",
      "    NCO:                        \"4.5.4\"\n",
      "    nco_openmp_thread_number:   1\n",
      "    history_of_appended_files:  Mon Jan 21 12:38:09 2019: Appended file ERA-I...\n"
     ]
    }
   ],
   "source": [
    "d1 = xray.open_dataset(d.suppl_info['from_files'][0])\n",
    "print(d1)"
   ]
  },
  {
   "cell_type": "code",
   "execution_count": 20,
   "metadata": {},
   "outputs": [
    {
     "data": {
      "text/plain": [
       "<xarray.DataArray 'a_model_ave' (lvl: 60)>\n",
       "array([1.000000e+01, 2.921265e+01, 5.103655e+01, 7.964240e+01, 1.150600e+02,\n",
       "       1.575335e+02, 2.076815e+02, 2.666375e+02, 3.362340e+02, 4.192950e+02,\n",
       "       5.201345e+02, 6.444345e+02, 7.984390e+02, 9.892450e+02, 1.225650e+03,\n",
       "       1.518555e+03, 1.881455e+03, 2.331080e+03, 2.888155e+03, 3.578355e+03,\n",
       "       4.433500e+03, 5.462365e+03, 6.662325e+03, 8.035840e+03, 9.570585e+03,\n",
       "       1.122676e+04, 1.292635e+04, 1.457755e+04, 1.609965e+04, 1.743235e+04,\n",
       "       1.853645e+04, 1.939140e+04, 1.998865e+04, 2.032605e+04, 2.040720e+04,\n",
       "       2.024095e+04, 1.984085e+04, 1.922455e+04, 1.841310e+04, 1.743045e+04,\n",
       "       1.630295e+04, 1.505875e+04, 1.372715e+04, 1.233800e+04, 1.092115e+04,\n",
       "       9.505930e+03, 8.120580e+03, 6.791560e+03, 5.543050e+03, 4.396345e+03,\n",
       "       3.369305e+03, 2.475740e+03, 1.724845e+03, 1.120636e+03, 6.613475e+02,\n",
       "       3.388635e+02, 1.381416e+02, 3.662847e+01, 3.683870e+00, 0.000000e+00],\n",
       "      dtype=float32)\n",
       "Coordinates:\n",
       "  * lvl      (lvl) int32 1 2 3 4 5 6 7 8 9 10 ... 51 52 53 54 55 56 57 58 59 60\n",
       "Attributes:\n",
       "    long_name:  a model ave\n",
       "    units:      Pa"
      ]
     },
     "execution_count": 20,
     "metadata": {},
     "output_type": "execute_result"
    }
   ],
   "source": [
    "d1.a_model_ave"
   ]
  },
  {
   "cell_type": "code",
   "execution_count": 21,
   "metadata": {},
   "outputs": [
    {
     "data": {
      "text/plain": [
       "<xarray.DataArray 'b_model_ave' (lvl: 60)>\n",
       "array([0.000000e+00, 0.000000e+00, 0.000000e+00, 0.000000e+00, 0.000000e+00,\n",
       "       0.000000e+00, 0.000000e+00, 0.000000e+00, 0.000000e+00, 0.000000e+00,\n",
       "       0.000000e+00, 0.000000e+00, 0.000000e+00, 0.000000e+00, 0.000000e+00,\n",
       "       0.000000e+00, 0.000000e+00, 0.000000e+00, 0.000000e+00, 0.000000e+00,\n",
       "       0.000000e+00, 0.000000e+00, 0.000000e+00, 3.791180e-05, 2.686093e-04,\n",
       "       1.138277e-03, 3.448140e-03, 8.112010e-03, 1.591040e-02, 2.739955e-02,\n",
       "       4.290580e-02, 6.261210e-02, 8.660425e-02, 1.148489e-01, 1.472035e-01,\n",
       "       1.834300e-01, 2.232045e-01, 2.661280e-01, 3.117390e-01, 3.595235e-01,\n",
       "       4.089275e-01, 4.593675e-01, 5.102410e-01, 5.609390e-01, 6.108575e-01,\n",
       "       6.594080e-01, 7.060275e-01, 7.501915e-01, 7.914250e-01, 8.293140e-01,\n",
       "       8.635160e-01, 8.937705e-01, 9.199120e-01, 9.418810e-01, 9.597335e-01,\n",
       "       9.736540e-01, 9.839665e-01, 9.911445e-01, 9.958245e-01, 9.988150e-01],\n",
       "      dtype=float32)\n",
       "Coordinates:\n",
       "  * lvl      (lvl) int32 1 2 3 4 5 6 7 8 9 10 ... 51 52 53 54 55 56 57 58 59 60\n",
       "Attributes:\n",
       "    long_name:  b model ave\n",
       "    units:      Pa Pa**-1"
      ]
     },
     "execution_count": 21,
     "metadata": {},
     "output_type": "execute_result"
    }
   ],
   "source": [
    "d1.b_model_ave"
   ]
  },
  {
   "cell_type": "code",
   "execution_count": 24,
   "metadata": {},
   "outputs": [],
   "source": [
    "d.reorder_dimensions_tseries()"
   ]
  },
  {
   "cell_type": "code",
   "execution_count": 26,
   "metadata": {},
   "outputs": [
    {
     "data": {
      "text/plain": [
       "['time', 'latitude', 'longitude', 'model_level_number']"
      ]
     },
     "execution_count": 26,
     "metadata": {},
     "output_type": "execute_result"
    }
   ],
   "source": [
    "d.dimcoord_names"
   ]
  },
  {
   "cell_type": "code",
   "execution_count": 29,
   "metadata": {},
   "outputs": [
    {
     "data": {
      "text/plain": [
       "DimCoord(array([ 1,  2,  3,  4,  5,  6,  7,  8,  9, 10, 11, 12, 13, 14, 15, 16, 17,\n",
       "       18, 19, 20, 21, 22, 23, 24, 25, 26, 27, 28, 29, 30, 31, 32, 33, 34,\n",
       "       35, 36, 37, 38, 39, 40, 41, 42, 43, 44, 45, 46, 47, 48, 49, 50, 51,\n",
       "       52, 53, 54, 55, 56, 57, 58, 59, 60], dtype=int32), standard_name=None, units=Unit('1'), long_name='model_level_number', var_name='level')"
      ]
     },
     "execution_count": 29,
     "metadata": {},
     "output_type": "execute_result"
    }
   ],
   "source": [
    "d.model_level_number"
   ]
  },
  {
   "cell_type": "code",
   "execution_count": 27,
   "metadata": {},
   "outputs": [
    {
     "data": {
      "text/plain": [
       "1.7070288684653167e-06"
      ]
     },
     "execution_count": 27,
     "metadata": {},
     "output_type": "execute_result"
    }
   ],
   "source": [
    "d[:,:,:,0].mean()"
   ]
  },
  {
   "cell_type": "code",
   "execution_count": 28,
   "metadata": {},
   "outputs": [
    {
     "data": {
      "text/plain": [
       "105.14719110018298"
      ]
     },
     "execution_count": 28,
     "metadata": {},
     "output_type": "execute_result"
    }
   ],
   "source": [
    "d[:,:,:,59].mean()"
   ]
  }
 ],
 "metadata": {
  "kernelspec": {
   "display_name": "Python 3",
   "language": "python",
   "name": "python3"
  },
  "language_info": {
   "codemirror_mode": {
    "name": "ipython",
    "version": 3
   },
   "file_extension": ".py",
   "mimetype": "text/x-python",
   "name": "python",
   "nbconvert_exporter": "python",
   "pygments_lexer": "ipython3",
   "version": "3.6.8"
  }
 },
 "nbformat": 4,
 "nbformat_minor": 2
}
